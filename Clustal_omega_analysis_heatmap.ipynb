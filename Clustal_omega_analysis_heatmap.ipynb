{
 "cells": [
  {
   "cell_type": "code",
   "execution_count": null,
   "id": "53745815",
   "metadata": {},
   "outputs": [],
   "source": [
    "##############################################################\n",
    "###The data was pre-analysed on clustal Omega and then only plotting was performed on the jupyter notebook####\n",
    "#############################################################"
   ]
  },
  {
   "cell_type": "code",
   "execution_count": null,
   "id": "b21bf855",
   "metadata": {},
   "outputs": [],
   "source": [
    "import pandas as pd\n",
    "import seaborn as sns\n",
    "import matplotlib.pyplot as plt\n",
    "import matplotlib.colors as mcolors\n",
    "from matplotlib.patches import FancyBboxPatch\n",
    "import numpy as np\n",
    "\n",
    "# Load the Excel file\n",
    "file_path = 'clustl3.xlsx'\n",
    "df = pd.read_excel(file_path)\n",
    "\n",
    "# Display the first few rows of the dataframe to understand its structure\n",
    "df.head()\n"
   ]
  },
  {
   "cell_type": "code",
   "execution_count": null,
   "id": "8b7cc3a2",
   "metadata": {},
   "outputs": [],
   "source": [
    "# Set the first column as the index (sequence names)\n",
    "df.set_index(df.columns[0], inplace=True)\n",
    "\n",
    "# Define the range of scores to hide (e.g., between -0.5 and 0.5)\n",
    "lower_bound = 0\n",
    "upper_bound = 40\n",
    "\n",
    "# Create a mask for the scores within the specified range\n",
    "mask = np.logical_and(df >= lower_bound, df <= upper_bound)\n",
    "\n",
    "# Define a gradient colormap ranging from light to dark red\n",
    "cmap_red = mcolors.LinearSegmentedColormap.from_list(\n",
    "    'red_gradient', ['lightgoldenrodyellow', 'cornflowerblue'], N=150)\n",
    "\n",
    "# Set up the figure and the axes for the heatmap\n",
    "plt.figure(figsize=(15, 8))\n",
    "\n",
    "\n",
    "# Plot the heatmap\n",
    "sns.heatmap(df, annot=True, fmt=\".1f\", cmap=cmap_red, linewidths=1, cbar=True, mask=mask, linecolor='black')\n",
    "\n",
    "# Save the figure as a PNG file with 1200 dpi\n",
    "output_path = 'colorful_heatmap.png'\n",
    "plt.savefig(output_path, dpi=1200, bbox_inches='tight')\n",
    "\n",
    "#plt.title('Heatmap of Alignment Scores')\n",
    "plt.show()\n",
    "\n",
    "#print output\n",
    "print(job done)"
   ]
  },
  {
   "cell_type": "code",
   "execution_count": null,
   "id": "2ec4948e",
   "metadata": {},
   "outputs": [],
   "source": []
  }
 ],
 "metadata": {
  "kernelspec": {
   "display_name": "Python 3 (ipykernel)",
   "language": "python",
   "name": "python3"
  },
  "language_info": {
   "codemirror_mode": {
    "name": "ipython",
    "version": 3
   },
   "file_extension": ".py",
   "mimetype": "text/x-python",
   "name": "python",
   "nbconvert_exporter": "python",
   "pygments_lexer": "ipython3",
   "version": "3.11.5"
  }
 },
 "nbformat": 4,
 "nbformat_minor": 5
}
